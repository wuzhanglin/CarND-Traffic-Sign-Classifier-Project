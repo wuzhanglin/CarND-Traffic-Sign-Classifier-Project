{
 "cells": [
  {
   "cell_type": "markdown",
   "metadata": {},
   "source": [
    "# Self-Driving Car Engineer Nanodegree\n",
    "\n",
    "## Deep Learning\n",
    "\n",
    "## Project: Build a Traffic Sign Recognition Classifier\n",
    "\n",
    "In this notebook, a template is provided for you to implement your functionality in stages, which is required to successfully complete this project. If additional code is required that cannot be included in the notebook, be sure that the Python code is successfully imported and included in your submission if necessary. \n",
    "\n",
    "> **Note**: Once you have completed all of the code implementations, you need to finalize your work by exporting the iPython Notebook as an HTML document. Before exporting the notebook to html, all of the code cells need to have been run so that reviewers can see the final implementation and output. You can then export the notebook by using the menu above and navigating to  \\n\",\n",
    "    \"**File -> Download as -> HTML (.html)**. Include the finished document along with this notebook as your submission. \n",
    "\n",
    "In addition to implementing code, there is a writeup to complete. The writeup should be completed in a separate file, which can be either a markdown file or a pdf document. There is a [write up template](https://github.com/udacity/CarND-Traffic-Sign-Classifier-Project/blob/master/writeup_template.md) that can be used to guide the writing process. Completing the code template and writeup template will cover all of the [rubric points](https://review.udacity.com/#!/rubrics/481/view) for this project.\n",
    "\n",
    "The [rubric](https://review.udacity.com/#!/rubrics/481/view) contains \"Stand Out Suggestions\" for enhancing the project beyond the minimum requirements. The stand out suggestions are optional. If you decide to pursue the \"stand out suggestions\", you can include the code in this Ipython notebook and also discuss the results in the writeup file.\n",
    "\n",
    "\n",
    ">**Note:** Code and Markdown cells can be executed using the **Shift + Enter** keyboard shortcut. In addition, Markdown cells can be edited by typically double-clicking the cell to enter edit mode."
   ]
  },
  {
   "cell_type": "markdown",
   "metadata": {},
   "source": [
    "---\n",
    "## Step 0: Load The Data"
   ]
  },
  {
   "cell_type": "code",
   "execution_count": 31,
   "metadata": {
    "collapsed": true
   },
   "outputs": [],
   "source": [
    "# Load pickled data\n",
    "import pickle\n",
    "\n",
    "# Load the training and testing data\n",
    "training_file = 'traffic-signs-data/train.p'\n",
    "validation_file= 'traffic-signs-data/valid.p'\n",
    "testing_file = 'traffic-signs-data/test.p'\n",
    "\n",
    "with open(training_file, mode='rb') as f:\n",
    "    train = pickle.load(f)\n",
    "with open(validation_file, mode='rb') as f:\n",
    "    validation = pickle.load(f)\n",
    "with open(testing_file, mode='rb') as f:\n",
    "    test = pickle.load(f)\n",
    "\n",
    "X_train, y_train = train['features'], train['labels']\n",
    "X_validation, y_validation = validation['features'], validation['labels']\n",
    "X_test, y_test = test['features'], test['labels']"
   ]
  },
  {
   "cell_type": "markdown",
   "metadata": {},
   "source": [
    "---\n",
    "\n",
    "## Step 1: Dataset Summary & Exploration\n",
    "\n",
    "The pickled data is a dictionary with 4 key/value pairs:\n",
    "\n",
    "- `'features'` is a 4D array containing raw pixel data of the traffic sign images, (num examples, width, height, channels).\n",
    "- `'labels'` is a 1D array containing the label/class id of the traffic sign. The file `signnames.csv` contains id -> name mappings for each id.\n",
    "- `'sizes'` is a list containing tuples, (width, height) representing the original width and height the image.\n",
    "- `'coords'` is a list containing tuples, (x1, y1, x2, y2) representing coordinates of a bounding box around the sign in the image. **THESE COORDINATES ASSUME THE ORIGINAL IMAGE. THE PICKLED DATA CONTAINS RESIZED VERSIONS (32 by 32) OF THESE IMAGES**\n",
    "\n",
    "Complete the basic data summary below. Use python, numpy and/or pandas methods to calculate the data summary rather than hard coding the results. For example, the [pandas shape method](http://pandas.pydata.org/pandas-docs/stable/generated/pandas.DataFrame.shape.html) might be useful for calculating some of the summary results. "
   ]
  },
  {
   "cell_type": "markdown",
   "metadata": {},
   "source": [
    "### Provide a Basic Summary of the Data Set Using Python, Numpy and/or Pandas"
   ]
  },
  {
   "cell_type": "code",
   "execution_count": 32,
   "metadata": {},
   "outputs": [
    {
     "name": "stdout",
     "output_type": "stream",
     "text": [
      "\n",
      "Image Shape: (32, 32, 3)\n",
      "\n",
      "Training Set:   34799 samples\n",
      "Validation Set: 4410 samples\n",
      "Test Set:       12630 samples\n",
      "Classes:        43\n"
     ]
    }
   ],
   "source": [
    "import numpy as np\n",
    "\n",
    "# Number of training examples\n",
    "n_train = X_train.shape[0]\n",
    "\n",
    "# Number of validation examples\n",
    "n_validation = X_validation.shape[0]\n",
    "\n",
    "# Number of testing examples\n",
    "n_test = X_test.shape[0]\n",
    "\n",
    "# The shape of an traffic sign image\n",
    "image_shape = X_train.shape[1:3]\n",
    "\n",
    "# Number of unique classes/labels in the dataset\n",
    "n_classes = len(np.unique(y_train))\n",
    "\n",
    "assert(len(X_train) == len(y_train))\n",
    "assert(len(X_validation) == len(y_validation))\n",
    "assert(len(X_test) == len(y_test))\n",
    "\n",
    "print()\n",
    "print('Image Shape: {}'.format(X_train[0].shape))\n",
    "print()\n",
    "print('Training Set:   {} samples'.format(len(X_train)))\n",
    "print('Validation Set: {} samples'.format(len(X_validation)))\n",
    "print('Test Set:       {} samples'.format(len(X_test)))\n",
    "print('Classes:        {}'.format(n_classes))"
   ]
  },
  {
   "cell_type": "markdown",
   "metadata": {},
   "source": [
    "### Include an exploratory visualization of the dataset\n",
    "\n",
    "Visualize the German Traffic Signs Dataset using the pickled file(s). This is open ended, suggestions include: plotting traffic sign images, plotting the count of each sign, etc. \n",
    "\n",
    "The [Matplotlib](http://matplotlib.org/) [examples](http://matplotlib.org/examples/index.html) and [gallery](http://matplotlib.org/gallery.html) pages are a great resource for doing visualizations in Python.\n",
    "\n",
    "**NOTE:** It's recommended you start with something simple first. If you wish to do more, come back to it after you've completed the rest of the sections. It can be interesting to look at the distribution of classes in the training, validation and test set. Is the distribution the same? Are there more examples of some classes than others?"
   ]
  },
  {
   "cell_type": "code",
   "execution_count": 35,
   "metadata": {},
   "outputs": [
    {
     "name": "stdout",
     "output_type": "stream",
     "text": [
      "Training Image with Label 5 at Random Index 13818:\n"
     ]
    },
    {
     "data": {
      "image/png": "[encoded data removed]",
      "text/plain": [
       "<matplotlib.figure.Figure at 0x7f6f444e4dd8>"
      ]
     },
     "metadata": {},
     "output_type": "display_data"
    },
    {
     "data": {
      "image/png": "[encoded data removed]",
      "text/plain": [
       "<matplotlib.figure.Figure at 0x7f6f1774b048>"
      ]
     },
     "metadata": {},
     "output_type": "display_data"
    },
    {
     "data": {
      "image/png": "[encoded data removed]",
      "text/plain": [
       "<matplotlib.figure.Figure at 0x7f6f3c549860>"
      ]
     },
     "metadata": {},
     "output_type": "display_data"
    },
    {
     "data": {
      "image/png": "[encoded data removed]",
      "text/plain": [
       "<matplotlib.figure.Figure at 0x7f6f3c549358>"
      ]
     },
     "metadata": {},
     "output_type": "display_data"
    }
   ],
   "source": [
    "### Data exploration visualization\n",
    "import random\n",
    "import numpy as np\n",
    "import collections\n",
    "import matplotlib.pyplot as plt\n",
    "\n",
    "# Visualizations will be shown in the notebook\n",
    "%matplotlib inline\n",
    "\n",
    "# 1. Show one image at a random index\n",
    "index = random.randint(0, len(X_train))\n",
    "print('Training Image with Label {} at Random Index {}:'.format(y_train[index], index))\n",
    "image = X_train[index].squeeze()\n",
    "plt.figure(figsize = (1, 1))\n",
    "plt.imshow(image)\n",
    "plt.show()\n",
    "\n",
    "# A helper class to visualize the dataset\n",
    "class DatasetVisualizer:\n",
    "    def __init__(self):\n",
    "        self.dataset = None\n",
    "        self.title = 'Traffic Sign Distribution of Dataset'\n",
    "        self.x_label = 'Traffic Sign Index'\n",
    "        self.y_label = 'Traffic Sign Count'\n",
    "        self.figure_size = (15, 6)\n",
    "    \n",
    "    def visualize(self):\n",
    "        class_to_count_map = collections.Counter(self.dataset)\n",
    "        \n",
    "        horizontal_axis = range(n_classes)\n",
    "        vertical_axis = [class_to_count_map[i] for i in horizontal_axis]\n",
    "        \n",
    "        plt.figure(figsize = self.figure_size)\n",
    "        plt.bar(horizontal_axis, vertical_axis)\n",
    "        \n",
    "        plt.title(self.title)\n",
    "        plt.xlabel(self.x_label)\n",
    "        plt.ylabel(self.y_label)\n",
    "        \n",
    "        plt.xticks(horizontal_axis)\n",
    "        plt.show()\n",
    "\n",
    "# 2. Visualize the training dataset\n",
    "datasetVisualizer = DatasetVisualizer()\n",
    "datasetVisualizer.dataset = y_train\n",
    "datasetVisualizer.title = 'Traffic Sign Distribution of the Training Dataset'\n",
    "datasetVisualizer.visualize()\n",
    "\n",
    "# 3. Visualize the validation dataset\n",
    "datasetVisualizer.dataset = y_validation\n",
    "datasetVisualizer.title = 'Traffic Sign Distribution of the Validation Dataset'\n",
    "datasetVisualizer.visualize()\n",
    "\n",
    "# 4. Visualize the test dataset\n",
    "datasetVisualizer.dataset = y_test\n",
    "datasetVisualizer.title = 'Traffic Sign Distribution of the Test Dataset'\n",
    "datasetVisualizer.visualize()"
   ]
  },
  {
   "cell_type": "markdown",
   "metadata": {},
   "source": [
    "----\n",
    "\n",
    "## Step 2: Design and Test a Model Architecture\n",
    "\n",
    "Design and implement a deep learning model that learns to recognize traffic signs. Train and test your model on the [German Traffic Sign Dataset](http://benchmark.ini.rub.de/?section=gtsrb&subsection=dataset).\n",
    "\n",
    "The LeNet-5 implementation shown in the [classroom](https://classroom.udacity.com/nanodegrees/nd013/parts/fbf77062-5703-404e-b60c-95b78b2f3f9e/modules/6df7ae49-c61c-4bb2-a23e-6527e69209ec/lessons/601ae704-1035-4287-8b11-e2c2716217ad/concepts/d4aca031-508f-4e0b-b493-e7b706120f81) at the end of the CNN lesson is a solid starting point. You'll have to change the number of classes and possibly the preprocessing, but aside from that it's plug and play! \n",
    "\n",
    "With the LeNet-5 solution from the lecture, you should expect a validation set accuracy of about 0.89. To meet specifications, the validation set accuracy will need to be at least 0.93. It is possible to get an even higher accuracy, but 0.93 is the minimum for a successful project submission. \n",
    "\n",
    "There are various aspects to consider when thinking about this problem:\n",
    "\n",
    "- Neural network architecture (is the network over or underfitting?)\n",
    "- Play around preprocessing techniques (normalization, rgb to grayscale, etc)\n",
    "- Number of examples per label (some have more than others).\n",
    "- Generate fake data.\n",
    "\n",
    "Here is an example of a [published baseline model on this problem](http://yann.lecun.com/exdb/publis/pdf/sermanet-ijcnn-11.pdf). It's not required to be familiar with the approach used in the paper but, it's good practice to try to read papers like these."
   ]
  },
  {
   "cell_type": "markdown",
   "metadata": {},
   "source": [
    "### Pre-process the Data Set (normalization, grayscale, etc.)\n",
    "\n",
    "Minimally, the image data should be normalized so that the data has mean zero and equal variance. For image data, `(pixel - 128)/ 128` is a quick way to approximately normalize the data and can be used in this project. \n",
    "\n",
    "Other pre-processing steps are optional. You can try different techniques to see if it improves performance. \n",
    "\n",
    "Use the code cell (or multiple code cells, if necessary) to implement the first step of your project."
   ]
  },
  {
   "cell_type": "code",
   "execution_count": 42,
   "metadata": {},
   "outputs": [
    {
     "name": "stdout",
     "output_type": "stream",
     "text": [
      "The Original Image with Labe 34:\n"
     ]
    },
    {
     "data": {
      "image/png": "[encoded data removed]",
      "text/plain": [
       "<matplotlib.figure.Figure at 0x7f6f443552b0>"
      ]
     },
     "metadata": {},
     "output_type": "display_data"
    },
    {
     "name": "stdout",
     "output_type": "stream",
     "text": [
      "The Grayscale Image:\n"
     ]
    },
    {
     "data": {
      "image/png": "[encoded data removed]",
      "text/plain": [
       "<matplotlib.figure.Figure at 0x7f6f3c731d68>"
      ]
     },
     "metadata": {},
     "output_type": "display_data"
    },
    {
     "name": "stdout",
     "output_type": "stream",
     "text": [
      "The Clipped Image:\n"
     ]
    },
    {
     "data": {
      "image/png": "[encoded data removed]",
      "text/plain": [
       "<matplotlib.figure.Figure at 0x7f6f44152438>"
      ]
     },
     "metadata": {},
     "output_type": "display_data"
    },
    {
     "name": "stdout",
     "output_type": "stream",
     "text": [
      "The Clipped Image Magnified:\n"
     ]
    },
    {
     "data": {
      "image/png": "[encoded data removed]",
      "text/plain": [
       "<matplotlib.figure.Figure at 0x7f6f3c50f358>"
      ]
     },
     "metadata": {},
     "output_type": "display_data"
    }
   ],
   "source": [
    "### Preprocess the data\n",
    "### Normalize the data and other preprocessing steps including converting to grayscale, etc.\n",
    "import cv2\n",
    "import random\n",
    "import numpy as np\n",
    "import matplotlib.pyplot as plt\n",
    "\n",
    "class ImagePreprocessor:\n",
    "    def grayscale(self, image):\n",
    "        YUV_image = cv2.cvtColor(image, cv2.COLOR_RGB2YUV)\n",
    "        return self.left_grayscale(YUV_image)\n",
    "    \n",
    "    def left_grayscale(self, YUV_image):\n",
    "        gray_image_Y = np.zeros((32,32))\n",
    "        for row in range(32):\n",
    "            for col in range(32):\n",
    "                gray_image_Y[row][col] = YUV_image[row][col][0]\n",
    "        \n",
    "        return gray_image_Y\n",
    "    \n",
    "    # Zero-center scaling for grayscale image data\n",
    "    def normalize_grayscale(self, image_data):\n",
    "        \"\"\"\n",
    "        Normalize the image data with zero-center scaling to a range of [-0.5, 0.5]\n",
    "        :param image_data: The image data to be normalized\n",
    "        :return: Normalized image data\n",
    "        \"\"\"\n",
    "        gray_image = self.grayscale(image_data)\n",
    "        \n",
    "        min_value = np.min(gray_image)\n",
    "        max_value = np.max(gray_image)\n",
    "        range_value = max_value - min_value\n",
    "        \n",
    "        grayscale_center = (max_value + min_value) / 2.0\n",
    "        scale_fact = 1.0 / range_value\n",
    "        return (gray_image - grayscale_center) * scale_fact\n",
    "\n",
    "# Test the ImagePreprocessor with one image\n",
    "index = random.randint(0, X_train.shape[0])\n",
    "image = X_train[index].squeeze()\n",
    "\n",
    "image_preprocessor = ImagePreprocessor()\n",
    "gray_image = image_preprocessor.normalize_grayscale(X_train[index])\n",
    "\n",
    "print('The Original Image with Labe {}:'.format(y_train[index]))\n",
    "plt.figure(figsize=(1, 1))\n",
    "plt.imshow(image)\n",
    "plt.show()\n",
    "\n",
    "print('The Grayscale Image:')\n",
    "plt.figure(figsize=(1, 1))\n",
    "plt.imshow(gray_image, cmap='gray')\n",
    "plt.show()\n",
    "\n",
    "class ImageClipper:\n",
    "    def __init__(self, image):\n",
    "        self.image = image\n",
    "        self.clipping_ratio = 0.15\n",
    "        \n",
    "        self.left_top_clipping_position_row = image.shape[0] * self.clipping_ratio\n",
    "        self.left_top_clipping_position_column = image.shape[1] * self.clipping_ratio\n",
    "        \n",
    "        self.left_bottom_clipping_position_row = image.shape[0] * (1.0 - self.clipping_ratio)\n",
    "        self.left_bottom_clipping_position_column = image.shape[1] * self.clipping_ratio\n",
    "        \n",
    "        self.right_top_clipping_position_row = image.shape[0] * self.clipping_ratio\n",
    "        self.right_top_clipping_position_column = image.shape[1] * (1.0 - self.clipping_ratio)\n",
    "        \n",
    "        self.right_bottom_clipping_position_row = image.shape[0] * (1.0 - self.clipping_ratio)\n",
    "        self.right_bottom_clipping_position_column = image.shape[1] * (1.0 - self.clipping_ratio)\n",
    "    \n",
    "    def get_clipped_images(self):\n",
    "        clip_left_top = np.array(self.image)\n",
    "        clip_left_bottom = np.array(self.image)\n",
    "        clip_right_top = np.array(self.image)\n",
    "        clip_right_bottom = np.array(self.image)\n",
    "        \n",
    "        # Left-top clipping\n",
    "        for row in range(image.shape[0]):\n",
    "            for column in range(image.shape[1]):\n",
    "                if (row < self.left_top_clipping_position_row or column < self.left_top_clipping_position_column):\n",
    "                    clip_left_top[row][column] = 0.0\n",
    "        \n",
    "        # Left-bottom clipping\n",
    "        for row in range(image.shape[0]):\n",
    "            for column in range(image.shape[1]):\n",
    "                if (row > self.left_bottom_clipping_position_row or column < self.left_bottom_clipping_position_column):\n",
    "                    clip_left_bottom[row][column] = 0.0\n",
    "        \n",
    "        # Right-top clipping\n",
    "        for row in range(image.shape[0]):\n",
    "            for column in range(image.shape[1]):\n",
    "                if (row < self.right_top_clipping_position_row or column > self.right_top_clipping_position_column):\n",
    "                    clip_right_top[row][column] = 0.0\n",
    "        \n",
    "        # Right-bottom clipping\n",
    "        for row in range(image.shape[0]):\n",
    "            for column in range(image.shape[1]):\n",
    "                if (row > self.right_bottom_clipping_position_row or column > self.right_bottom_clipping_position_column):\n",
    "                    clip_right_bottom[row][column] = 0.0\n",
    "        \n",
    "        return [clip_left_top, clip_left_bottom, clip_right_top, clip_right_bottom]\n",
    "\n",
    "# Test the ImageClipper\n",
    "image_clipper = ImageClipper(gray_image)\n",
    "clipped_images = image_clipper.get_clipped_images()\n",
    "\n",
    "print('The Clipped Image:')\n",
    "plt.figure(figsize=(1, 1))\n",
    "plt.imshow(clipped_images[0], cmap='gray')\n",
    "plt.show()\n",
    "\n",
    "print('The Clipped Image Magnified:')\n",
    "plt.imshow(clipped_images[0], cmap='gray')\n",
    "plt.show()"
   ]
  },
  {
   "cell_type": "markdown",
   "metadata": {},
   "source": [
    "## Dataset Transform\n",
    "Transform the datasets from colored images to grascale images to imporve the performance"
   ]
  },
  {
   "cell_type": "code",
   "execution_count": 44,
   "metadata": {},
   "outputs": [
    {
     "name": "stdout",
     "output_type": "stream",
     "text": [
      "\n",
      "Image Shape: (32, 32, 1)\n",
      "\n",
      "Training Set:   173995 samples\n",
      "Validation Set: 22050 samples\n",
      "Test Set:       63150 samples\n",
      "Classes:        43\n",
      "\n",
      "Training Image Index: 71816\n",
      "Training Image Label: 38\n",
      "Training Image:\n"
     ]
    },
    {
     "data": {
      "image/png": "[encoded data removed]",
      "text/plain": [
       "<matplotlib.figure.Figure at 0x7f6f3c7a6320>"
      ]
     },
     "metadata": {},
     "output_type": "display_data"
    }
   ],
   "source": [
    "generate_features_flag = False\n",
    "generate_clipped_images_flag = True\n",
    "\n",
    "def generate_clipped_images(image, label, X_generated, y_generated):\n",
    "    image_clipper = ImageClipper(image)\n",
    "    clipped_images = image_clipper.get_clipped_images()\n",
    "    for (i, clipped_image) in enumerate(clipped_images):\n",
    "        X_generated.append(clipped_image.reshape([32, 32, 1]))\n",
    "        y_generated.append(label)\n",
    "\n",
    "def generate_features(X_origin, y_origin, X_generated, y_generated):\n",
    "    image_preprocessor = ImagePreprocessor()\n",
    "    for index in range(X_origin.shape[0]):\n",
    "        normalized_gray_image = image_preprocessor.normalize_grayscale(X_origin[index])\n",
    "        X_generated.append(normalized_gray_image.reshape([32, 32, 1]))\n",
    "        y_generated.append(y_origin[index])\n",
    "        \n",
    "        if generate_clipped_images_flag:\n",
    "            generate_clipped_images(normalized_gray_image, y_origin[index], X_generated, y_generated)\n",
    "\n",
    "if generate_features_flag:\n",
    "    X_train_generated = []\n",
    "    X_validation_generated = []\n",
    "    X_test_generated = []\n",
    "    \n",
    "    y_train_generated = []\n",
    "    y_validation_generated = []\n",
    "    y_test_generated = []\n",
    "    \n",
    "    generate_features(X_train, y_train, X_train_generated, y_train_generated)\n",
    "    generate_features(X_validation, y_validation, X_validation_generated, y_validation_generated)\n",
    "    generate_features(X_test, y_test, X_test_generated, y_test_generated)\n",
    "    \n",
    "    train_features_to_save = np.array(X_train_generated)\n",
    "    validation_features_to_save = np.array(X_validation_generated)\n",
    "    test_features_to_save = np.array(X_test_generated)\n",
    "    \n",
    "    y_train_to_save = np.array(y_train_generated)\n",
    "    y_validation_to_save = np.array(y_validation_generated)\n",
    "    y_test_to_save = np.array(y_test_generated)\n",
    "    \n",
    "    training_file_to_save = 'traffic-signs-data/train_generated.p'\n",
    "    validation_file_to_save = 'traffic-signs-data/valid_generated.p'\n",
    "    testing_file_to_save = 'traffic-signs-data/test_generated.p'\n",
    "    \n",
    "    with open(training_file_to_save, mode='wb') as f:\n",
    "        pickle.dump({'features': train_features_to_save, 'labels': y_train_to_save}, f)\n",
    "    with open(validation_file_to_save, mode='wb') as f:\n",
    "        pickle.dump({'features': validation_features_to_save, 'labels': y_validation_to_save}, f)\n",
    "    with open(testing_file_to_save, mode='wb') as f:\n",
    "        pickle.dump({'features': test_features_to_save, 'labels': y_test_to_save}, f)\n",
    "\n",
    "training_file = 'traffic-signs-data/train_generated.p'\n",
    "validation_file= 'traffic-signs-data/valid_generated.p'\n",
    "testing_file = 'traffic-signs-data/test_generated.p'\n",
    "\n",
    "with open(training_file, mode='rb') as f:\n",
    "    train = pickle.load(f)\n",
    "with open(validation_file, mode='rb') as f:\n",
    "    validation = pickle.load(f)\n",
    "with open(testing_file, mode='rb') as f:\n",
    "    test = pickle.load(f)\n",
    "\n",
    "train_features, y_train = train['features'], train['labels']\n",
    "validation_features, y_validation = validation['features'], validation['labels']\n",
    "test_features, y_test = test['features'], test['labels']\n",
    "\n",
    "# Number of training examples\n",
    "n_train = train_features.shape[0]\n",
    "\n",
    "# Number of validation examples\n",
    "n_validation = validation_features.shape[0]\n",
    "\n",
    "# Number of testing examples\n",
    "n_test = test_features.shape[0]\n",
    "\n",
    "# The shape of an traffic sign image\n",
    "image_shape = train_features.shape[1:3]\n",
    "\n",
    "# Number of unique classes/labels in the dataset\n",
    "n_classes = len(np.unique(y_train))\n",
    "\n",
    "assert(len(train_features) == len(y_train))\n",
    "assert(len(validation_features) == len(y_validation))\n",
    "assert(len(test_features) == len(y_test))\n",
    "\n",
    "print()\n",
    "print('Image Shape: {}'.format(train_features[0].shape))\n",
    "print()\n",
    "print('Training Set:   {} samples'.format(len(train_features)))\n",
    "print('Validation Set: {} samples'.format(len(validation_features)))\n",
    "print('Test Set:       {} samples'.format(len(test_features)))\n",
    "print('Classes:        {}'.format(n_classes))\n",
    "\n",
    "# Show one image of the images\n",
    "print()\n",
    "index = random.randint(0, train_features.shape[0])\n",
    "print('Training Image Index: {0}'.format(index))\n",
    "print('Training Image Label: {0}'.format(y_train[index]))\n",
    "print('Training Image:')\n",
    "image = train_features[index].squeeze()\n",
    "plt.figure(figsize = (1, 1))\n",
    "plt.imshow(image, cmap = 'gray')\n",
    "plt.show()"
   ]
  },
  {
   "cell_type": "markdown",
   "metadata": {},
   "source": [
    "### Model Architecture"
   ]
  },
  {
   "cell_type": "code",
   "execution_count": 45,
   "metadata": {
    "collapsed": true
   },
   "outputs": [],
   "source": [
    "import tensorflow as tf\n",
    "from tensorflow.contrib.layers import flatten\n",
    "\n",
    "def LeNet(x):    \n",
    "    # Arguments used for tf.truncated_normal, randomly defines variables for the weights and biases for each layer\n",
    "    mu = 0\n",
    "    sigma = 0.1\n",
    "    \n",
    "    # Layer 1: Convolutional, Input = 32x32x1, Output = 28x28x12\n",
    "    conv1_filters = 12\n",
    "    conv1_weights = tf.Variable(tf.truncated_normal(shape = (5, 5, 1, conv1_filters), mean = mu, stddev = sigma))\n",
    "    conv1_biases = tf.Variable(tf.zeros(conv1_filters))\n",
    "    conv1_strides = [1, 1, 1, 1]\n",
    "    conv1_pading = 'VALID'\n",
    "    conv1_output = tf.nn.conv2d(x, conv1_weights, conv1_strides, conv1_pading) + conv1_biases\n",
    "\n",
    "    # Activation\n",
    "    relu1_output = tf.nn.relu(conv1_output)\n",
    "\n",
    "    # Pooling: Input = 28x28x12, Output = 14x14x12\n",
    "    pooling1_ksize = [1, 2, 2, 1]\n",
    "    pooling1_strides = [1, 2, 2, 1]\n",
    "    pooling1_pading = 'VALID'\n",
    "    pooling1_output = tf.nn.max_pool(relu1_output, pooling1_ksize, pooling1_strides, pooling1_pading)\n",
    "\n",
    "    # Layer 2: Convolutional, Output = 10x10x24\n",
    "    conv2_filters = 24\n",
    "    conv2_weights = tf.Variable(tf.truncated_normal(shape = (5, 5, conv1_filters, conv2_filters), mean = mu, stddev = sigma))\n",
    "    conv2_biases = tf.Variable(tf.zeros(conv2_filters))\n",
    "    conv2_strides = [1, 1, 1, 1]\n",
    "    conv2_pading = 'VALID'\n",
    "    conv2_output = tf.nn.conv2d(pooling1_output, conv2_weights, conv2_strides, conv2_pading) + conv2_biases\n",
    "    \n",
    "    # Activation\n",
    "    relu2_output = tf.nn.relu(conv2_output)\n",
    "\n",
    "    # Pooling: Input = 10x10x24, Output = 5x5x24\n",
    "    pooling2_ksize = [1, 2, 2, 1]\n",
    "    pooling2_strides = [1, 2, 2, 1]\n",
    "    pooling2_pading = 'VALID'\n",
    "    pooling2_output = tf.nn.max_pool(relu2_output, pooling2_ksize, pooling2_strides, pooling2_pading)\n",
    "\n",
    "    # Flatten: Input = 5x5x24, Output = 400\n",
    "    fc0 = flatten(pooling2_output)\n",
    "    \n",
    "    # Layer 3: Fully Connected, Input = 400, Output = 256\n",
    "    fc1_inputs = 5 * 5 * conv2_filters\n",
    "    fc1_ouputs = 256\n",
    "    fc1_weights = tf.Variable(tf.truncated_normal(shape = (fc1_inputs, fc1_ouputs), mean = mu, stddev = sigma))\n",
    "    fc1_biases = tf.Variable(tf.zeros(fc1_ouputs))\n",
    "    fc1_output = tf.matmul(fc0, fc1_weights) + fc1_biases\n",
    "    \n",
    "    # Activation\n",
    "    fc1_relu = tf.nn.relu(fc1_output)\n",
    "\n",
    "    # Layer 4: Fully Connected, Input = 256, Output = 128\n",
    "    fc2_inputs = fc1_ouputs\n",
    "    fc2_ouputs = 128\n",
    "    fc2_weights = tf.Variable(tf.truncated_normal(shape = (fc2_inputs, fc2_ouputs), mean = mu, stddev = sigma))\n",
    "    fc2_biases = tf.Variable(tf.zeros(fc2_ouputs))\n",
    "    fc2_output = tf.matmul(fc1_relu, fc2_weights) + fc2_biases\n",
    "    \n",
    "    # Activation\n",
    "    fc2_relu = tf.nn.relu(fc2_output)\n",
    "\n",
    "    # Layer 5: Fully Connected, Input = 128, Output = 43\n",
    "    fc3_inputs = fc2_ouputs\n",
    "    fc3_ouputs = n_classes\n",
    "    fc3_weights = tf.Variable(tf.truncated_normal(shape = (fc3_inputs, fc3_ouputs), mean = mu, stddev = sigma))\n",
    "    fc3_biases = tf.Variable(tf.zeros(fc3_ouputs))\n",
    "    logits = tf.matmul(fc2_relu, fc3_weights) + fc3_biases\n",
    "    \n",
    "    return tf.identity(logits, name='logits')"
   ]
  },
  {
   "cell_type": "markdown",
   "metadata": {},
   "source": [
    "## Features and Labels\n",
    "`x` is a placeholder for a batch of input images.\n",
    "`y` is a placeholder for a batch of output labels."
   ]
  },
  {
   "cell_type": "code",
   "execution_count": 46,
   "metadata": {
    "collapsed": true
   },
   "outputs": [],
   "source": [
    "# One-Hot Encoding\n",
    "inputs = tf.placeholder(tf.float32, (None, 32, 32, 1), name = 'inputs')\n",
    "labels = tf.placeholder(tf.int32, (None), name = 'labels')\n",
    "one_hot_labels = tf.one_hot(labels, 43)"
   ]
  },
  {
   "cell_type": "markdown",
   "metadata": {},
   "source": [
    "## Evaluation"
   ]
  },
  {
   "cell_type": "code",
   "execution_count": 47,
   "metadata": {
    "collapsed": true
   },
   "outputs": [],
   "source": [
    "import tensorflow as tf\n",
    "from sklearn.utils import shuffle\n",
    "\n",
    "EPOCHS = 30\n",
    "BATCH_SIZE = 64\n",
    "rate = 0.001\n",
    "\n",
    "logits = LeNet(inputs)\n",
    "cross_entropy = tf.nn.softmax_cross_entropy_with_logits(labels = one_hot_labels, logits = logits)\n",
    "loss_operation = tf.reduce_mean(cross_entropy, name = 'cost')\n",
    "optimizer = tf.train.AdamOptimizer(learning_rate = rate)\n",
    "training_operation = optimizer.minimize(loss_operation)\n",
    "\n",
    "correct_prediction = tf.equal(tf.argmax(logits, 1), tf.argmax(one_hot_labels, 1))\n",
    "accuracy_operation = tf.reduce_mean(tf.cast(correct_prediction, tf.float32), name = 'accuracy')\n",
    "\n",
    "# Model evaluation\n",
    "def evaluate(X_data, y_data):\n",
    "    num_examples = X_data.shape[0]\n",
    "    total_accuracy = 0\n",
    "    sess = tf.get_default_session()\n",
    "    for offset in range(0, num_examples, BATCH_SIZE):\n",
    "        batch_x, batch_y = X_data[offset : offset + BATCH_SIZE], y_data[offset : offset + BATCH_SIZE]\n",
    "        accuracy = sess.run(accuracy_operation, feed_dict = {inputs: batch_x, labels: batch_y})\n",
    "        total_accuracy += (accuracy * len(batch_x))\n",
    "    \n",
    "    return total_accuracy / num_examples"
   ]
  },
  {
   "cell_type": "markdown",
   "metadata": {},
   "source": [
    "### Train, Validate and Test the Model\n",
    "A validation set can be used to assess how well the model is performing. A low accuracy on the training and validation\n",
    "sets imply underfitting. A high accuracy on the training set but low accuracy on the validation set implies overfitting."
   ]
  },
  {
   "cell_type": "code",
   "execution_count": 13,
   "metadata": {},
   "outputs": [
    {
     "name": "stdout",
     "output_type": "stream",
     "text": [
      "Training...\n",
      "EPOCH 1: Training Accuracy = 0.934, Validation Accuracy = 0.860\n",
      "EPOCH 2: Training Accuracy = 0.971, Validation Accuracy = 0.903\n",
      "EPOCH 3: Training Accuracy = 0.986, Validation Accuracy = 0.914\n",
      "EPOCH 4: Training Accuracy = 0.988, Validation Accuracy = 0.921\n",
      "EPOCH 5: Training Accuracy = 0.993, Validation Accuracy = 0.927\n",
      "EPOCH 6: Training Accuracy = 0.992, Validation Accuracy = 0.929\n",
      "EPOCH 7: Training Accuracy = 0.992, Validation Accuracy = 0.935\n",
      "EPOCH 8: Training Accuracy = 0.991, Validation Accuracy = 0.916\n",
      "EPOCH 9: Training Accuracy = 0.997, Validation Accuracy = 0.925\n",
      "EPOCH 10: Training Accuracy = 0.998, Validation Accuracy = 0.944\n",
      "EPOCH 11: Training Accuracy = 0.997, Validation Accuracy = 0.939\n",
      "EPOCH 12: Training Accuracy = 0.996, Validation Accuracy = 0.928\n",
      "EPOCH 13: Training Accuracy = 0.996, Validation Accuracy = 0.943\n",
      "EPOCH 14: Training Accuracy = 0.998, Validation Accuracy = 0.938\n",
      "EPOCH 15: Training Accuracy = 0.998, Validation Accuracy = 0.944\n",
      "EPOCH 16: Training Accuracy = 0.997, Validation Accuracy = 0.943\n",
      "EPOCH 17: Training Accuracy = 0.998, Validation Accuracy = 0.950\n",
      "EPOCH 18: Training Accuracy = 0.994, Validation Accuracy = 0.947\n",
      "EPOCH 19: Training Accuracy = 0.999, Validation Accuracy = 0.940\n",
      "EPOCH 20: Training Accuracy = 0.996, Validation Accuracy = 0.941\n",
      "EPOCH 21: Training Accuracy = 1.000, Validation Accuracy = 0.957\n",
      "EPOCH 22: Training Accuracy = 0.996, Validation Accuracy = 0.942\n",
      "EPOCH 23: Training Accuracy = 0.997, Validation Accuracy = 0.942\n",
      "EPOCH 24: Training Accuracy = 0.998, Validation Accuracy = 0.948\n",
      "EPOCH 25: Training Accuracy = 0.997, Validation Accuracy = 0.937\n",
      "EPOCH 26: Training Accuracy = 1.000, Validation Accuracy = 0.956\n",
      "EPOCH 27: Training Accuracy = 0.999, Validation Accuracy = 0.950\n",
      "EPOCH 28: Training Accuracy = 0.999, Validation Accuracy = 0.955\n",
      "EPOCH 29: Training Accuracy = 0.994, Validation Accuracy = 0.931\n",
      "EPOCH 30: Training Accuracy = 0.999, Validation Accuracy = 0.958\n",
      "Model saved\n"
     ]
    }
   ],
   "source": [
    "### Train the model\n",
    "### Calculate and report the accuracy on the training and validation set.\n",
    "### Once a final model architecture is selected, \n",
    "### the accuracy on the test set is calculated and reported as well.\n",
    "import tensorflow as tf\n",
    "\n",
    "saver = tf.train.Saver()\n",
    "\n",
    "train_features_shuffled = train_features\n",
    "train_labels_shuffled = y_train\n",
    "\n",
    "# Train the model\n",
    "with tf.Session() as sess:\n",
    "    sess.run(tf.global_variables_initializer())\n",
    "    num_examples = X_train.shape[0]\n",
    "    \n",
    "    print('Training...')\n",
    "    for i in range(EPOCHS):\n",
    "        train_features_shuffled, train_labels_shuffled = shuffle(train_features_shuffled, train_labels_shuffled)\n",
    "        for offset in range(0, num_examples, BATCH_SIZE):\n",
    "            end = offset + BATCH_SIZE\n",
    "            batch_x, batch_y = train_features_shuffled[offset:end], train_labels_shuffled[offset:end]\n",
    "            sess.run(training_operation, feed_dict={inputs: batch_x, labels: batch_y})\n",
    "        \n",
    "        validation_accuracy = evaluate(validation_features, y_validation)\n",
    "        train_accuracy = evaluate(train_features, y_train)\n",
    "        print('EPOCH {}: Training Accuracy = {:.3f}, Validation Accuracy = {:.3f}'.format(i + 1, train_accuracy, validation_accuracy))\n",
    "    \n",
    "    saver.save(sess, './LeNet_Traffic_Sign_Classifier')\n",
    "    print('Model saved')"
   ]
  },
  {
   "cell_type": "code",
   "execution_count": 14,
   "metadata": {},
   "outputs": [
    {
     "name": "stdout",
     "output_type": "stream",
     "text": [
      "Test Accuracy = 0.937\n"
     ]
    }
   ],
   "source": [
    "import tensorflow as tf\n",
    "\n",
    "# Test the model\n",
    "with tf.Session() as sess:\n",
    "    saver.restore(sess, tf.train.latest_checkpoint('.'))\n",
    "\n",
    "    test_accuracy = evaluate(test_features, y_test)\n",
    "    print('Test Accuracy = {:.3f}'.format(test_accuracy))"
   ]
  },
  {
   "cell_type": "markdown",
   "metadata": {},
   "source": [
    "---\n",
    "\n",
    "## Step 3: Test a Model on New Images\n",
    "\n",
    "To give yourself more insight into how your model is working, download at least five pictures of German traffic signs from the web and use your model to predict the traffic sign type.\n",
    "\n",
    "You may find `signnames.csv` useful as it contains mappings from the class id (integer) to the actual sign name."
   ]
  },
  {
   "cell_type": "markdown",
   "metadata": {},
   "source": [
    "### Load and Output the Images"
   ]
  },
  {
   "cell_type": "code",
   "execution_count": 15,
   "metadata": {},
   "outputs": [
    {
     "name": "stdout",
     "output_type": "stream",
     "text": [
      "Test Image 1:\n"
     ]
    },
    {
     "data": {
      "image/png": "[encoded data removed]",
      "text/plain": [
       "<matplotlib.figure.Figure at 0x7f6f467aeef0>"
      ]
     },
     "metadata": {},
     "output_type": "display_data"
    },
    {
     "name": "stdout",
     "output_type": "stream",
     "text": [
      "Test Image 2:\n"
     ]
    },
    {
     "data": {
      "image/png": "[encoded data removed]",
      "text/plain": [
       "<matplotlib.figure.Figure at 0x7f6f446672e8>"
      ]
     },
     "metadata": {},
     "output_type": "display_data"
    },
    {
     "name": "stdout",
     "output_type": "stream",
     "text": [
      "Test Image 3:\n"
     ]
    },
    {
     "data": {
      "image/png": "[encoded data removed]",
      "text/plain": [
       "<matplotlib.figure.Figure at 0x7f6f446bcd30>"
      ]
     },
     "metadata": {},
     "output_type": "display_data"
    },
    {
     "name": "stdout",
     "output_type": "stream",
     "text": [
      "Test Image 4:\n"
     ]
    },
    {
     "data": {
      "image/png": "[encoded data removed]",
      "text/plain": [
       "<matplotlib.figure.Figure at 0x7f6f44655a58>"
      ]
     },
     "metadata": {},
     "output_type": "display_data"
    },
    {
     "name": "stdout",
     "output_type": "stream",
     "text": [
      "Test Image 5:\n"
     ]
    },
    {
     "data": {
      "image/png": "[encoded data removed]",
      "text/plain": [
       "<matplotlib.figure.Figure at 0x7f6f445a8ba8>"
      ]
     },
     "metadata": {},
     "output_type": "display_data"
    }
   ],
   "source": [
    "### Load the images and plot them\n",
    "### Pre-process the images with the same pre-processing pipeline used earlier\n",
    "import os\n",
    "import matplotlib.pyplot as plt\n",
    "\n",
    "test_images = []\n",
    "test_gray_images = []\n",
    "\n",
    "index = 0\n",
    "image_preprocessor = ImagePreprocessor()\n",
    "test_images_list = os.listdir('./traffic_sign_test_images')\n",
    "for image_file in test_images_list:\n",
    "    if not image_file.endswith('.png'):\n",
    "        continue\n",
    "    \n",
    "    image_path = './traffic_sign_test_images/' + image_file\n",
    "    image = plt.imread(image_path)\n",
    "    test_images.append(image)\n",
    "    \n",
    "    gray_image = image_preprocessor.normalize_grayscale(image)\n",
    "    test_gray_images.append(gray_image.reshape([32, 32, 1]))\n",
    "    \n",
    "    print('Test Image {}:'.format(index + 1))\n",
    "    index = index + 1\n",
    "    plt.figure(figsize = (1, 1))\n",
    "    plt.imshow(image)\n",
    "    plt.show()"
   ]
  },
  {
   "cell_type": "markdown",
   "metadata": {},
   "source": [
    "### Predict the Sign Type for Each Image"
   ]
  },
  {
   "cell_type": "code",
   "execution_count": 28,
   "metadata": {},
   "outputs": [
    {
     "name": "stdout",
     "output_type": "stream",
     "text": [
      "Predictions of Test Images:\n",
      "\n",
      "Test Image 1 Prediction: 23 (Slippery road)\n"
     ]
    },
    {
     "data": {
      "image/png": "[encoded data removed]",
      "text/plain": [
       "<matplotlib.figure.Figure at 0x7f6f177a4d68>"
      ]
     },
     "metadata": {},
     "output_type": "display_data"
    },
    {
     "name": "stdout",
     "output_type": "stream",
     "text": [
      "Test Image 2 Prediction: 17 (No entry)\n"
     ]
    },
    {
     "data": {
      "image/png": "[encoded data removed]",
      "text/plain": [
       "<matplotlib.figure.Figure at 0x7f6f3c472d30>"
      ]
     },
     "metadata": {},
     "output_type": "display_data"
    },
    {
     "name": "stdout",
     "output_type": "stream",
     "text": [
      "Test Image 3 Prediction: 3 (Speed limit (60km/h))\n"
     ]
    },
    {
     "data": {
      "image/png": "[encoded data removed]",
      "text/plain": [
       "<matplotlib.figure.Figure at 0x7f6f3c512b70>"
      ]
     },
     "metadata": {},
     "output_type": "display_data"
    },
    {
     "name": "stdout",
     "output_type": "stream",
     "text": [
      "Test Image 4 Prediction: 36 (Go straight or right)\n"
     ]
    },
    {
     "data": {
      "image/png": "[encoded data removed]",
      "text/plain": [
       "<matplotlib.figure.Figure at 0x7f6f3c726828>"
      ]
     },
     "metadata": {},
     "output_type": "display_data"
    },
    {
     "name": "stdout",
     "output_type": "stream",
     "text": [
      "Test Image 5 Prediction: 35 (Ahead only)\n"
     ]
    },
    {
     "data": {
      "image/png": "[encoded data removed]",
      "text/plain": [
       "<matplotlib.figure.Figure at 0x7f6f44577ac8>"
      ]
     },
     "metadata": {},
     "output_type": "display_data"
    }
   ],
   "source": [
    "### Run the predictions and use the model to output the prediction for each image\n",
    "import tensorflow as tf\n",
    "import numpy as np\n",
    "import pandas\n",
    "\n",
    "sign_names = pandas.read_csv('signnames.csv')['SignName']\n",
    "\n",
    "loaded_graph = tf.Graph()\n",
    "with tf.Session(graph = loaded_graph) as sess:\n",
    "    loader = tf.train.import_meta_graph('./LeNet_Traffic_Sign_Classifier.meta')\n",
    "    loader.restore(sess, './LeNet_Traffic_Sign_Classifier')\n",
    "    loaded_inputs = loaded_graph.get_tensor_by_name('inputs:0')\n",
    "    loaded_logits = loaded_graph.get_tensor_by_name('logits:0')\n",
    "    \n",
    "    logits = sess.run(loaded_logits, feed_dict = {loaded_inputs: test_gray_images})\n",
    "    predictions = np.argmax(logits, axis = 1)\n",
    "    \n",
    "    print('Predictions of Test Images:')\n",
    "    print()\n",
    "    for index in range(len(predictions)):\n",
    "        predicted_label = predictions[index]\n",
    "        print('Test Image {} Prediction: {} ({})'.format(index + 1, predicted_label, sign_names[predicted_label]))\n",
    "        \n",
    "        plt.figure(figsize = (1, 1))\n",
    "        plt.imshow(test_images[index])\n",
    "        plt.show()"
   ]
  },
  {
   "cell_type": "markdown",
   "metadata": {},
   "source": [
    "### Analyze Performance"
   ]
  },
  {
   "cell_type": "code",
   "execution_count": 26,
   "metadata": {},
   "outputs": [
    {
     "name": "stdout",
     "output_type": "stream",
     "text": [
      "Prediction Accuracy = 1.000\n"
     ]
    }
   ],
   "source": [
    "### Calculate the accuracy for these 5 new images\n",
    "import tensorflow as tf\n",
    "import numpy as np\n",
    "import pandas\n",
    "\n",
    "test_lables = np.array([23, 17, 3, 36, 35])\n",
    "\n",
    "loaded_graph = tf.Graph()\n",
    "with tf.Session(graph = loaded_graph) as sess:\n",
    "    loader = tf.train.import_meta_graph('./LeNet_Traffic_Sign_Classifier.meta')\n",
    "    loader.restore(sess, './LeNet_Traffic_Sign_Classifier')\n",
    "    loaded_inputs = loaded_graph.get_tensor_by_name('inputs:0')\n",
    "    loaded_labels = loaded_graph.get_tensor_by_name('labels:0')\n",
    "    loaded_accuracy = loaded_graph.get_tensor_by_name('accuracy:0')\n",
    "    \n",
    "    test_accuracy = sess.run(loaded_accuracy, feed_dict = {loaded_inputs: test_gray_images, loaded_labels: test_lables.astype(float)})\n",
    "    print('Prediction Accuracy = {:.3f}'.format(test_accuracy))"
   ]
  },
  {
   "cell_type": "markdown",
   "metadata": {},
   "source": [
    "### Output Top 5 Softmax Probabilities For Each Image Found on the Web"
   ]
  },
  {
   "cell_type": "markdown",
   "metadata": {},
   "source": [
    "For each of the new images, print out the model's softmax probabilities to show the **certainty** of the model's predictions (limit the output to the top 5 probabilities for each image). [`tf.nn.top_k`](https://www.tensorflow.org/versions/r0.12/api_docs/python/nn.html#top_k) could prove helpful here. \n",
    "\n",
    "The example below demonstrates how tf.nn.top_k can be used to find the top k predictions for each image.\n",
    "\n",
    "`tf.nn.top_k` will return the values and indices (class ids) of the top k predictions. So if k=3, for each sign, it'll return the 3 largest probabilities (out of a possible 43) and the correspoding class ids.\n",
    "\n",
    "Take this numpy array as an example. The values in the array represent predictions. The array contains softmax probabilities for five candidate images with six possible classes. `tf.nn.top_k` is used to choose the three classes with the highest probability:\n",
    "\n",
    "```\n",
    "# (5, 6) array\n",
    "a = np.array([[ 0.24879643,  0.07032244,  0.12641572,  0.34763842,  0.07893497,\n",
    "         0.12789202],\n",
    "       [ 0.28086119,  0.27569815,  0.08594638,  0.0178669 ,  0.18063401,\n",
    "         0.15899337],\n",
    "       [ 0.26076848,  0.23664738,  0.08020603,  0.07001922,  0.1134371 ,\n",
    "         0.23892179],\n",
    "       [ 0.11943333,  0.29198961,  0.02605103,  0.26234032,  0.1351348 ,\n",
    "         0.16505091],\n",
    "       [ 0.09561176,  0.34396535,  0.0643941 ,  0.16240774,  0.24206137,\n",
    "         0.09155967]])\n",
    "```\n",
    "\n",
    "Running it through `sess.run(tf.nn.top_k(tf.constant(a), k=3))` produces:\n",
    "\n",
    "```\n",
    "TopKV2(values=array([[ 0.34763842,  0.24879643,  0.12789202],\n",
    "       [ 0.28086119,  0.27569815,  0.18063401],\n",
    "       [ 0.26076848,  0.23892179,  0.23664738],\n",
    "       [ 0.29198961,  0.26234032,  0.16505091],\n",
    "       [ 0.34396535,  0.24206137,  0.16240774]]), indices=array([[3, 0, 5],\n",
    "       [0, 1, 4],\n",
    "       [0, 5, 1],\n",
    "       [1, 3, 5],\n",
    "       [1, 4, 3]], dtype=int32))\n",
    "```\n",
    "\n",
    "Looking just at the first row we get `[ 0.34763842,  0.24879643,  0.12789202]`, you can confirm these are the 3 largest probabilities in `a`. You'll also notice `[3, 0, 5]` are the corresponding indices."
   ]
  },
  {
   "cell_type": "code",
   "execution_count": 48,
   "metadata": {},
   "outputs": [
    {
     "name": "stdout",
     "output_type": "stream",
     "text": [
      "Softmax Probability of Test Image Predictions:\n",
      "\n",
      "\n",
      "Test Image 1: Slippery road\n",
      "---------------------------------------------------\n"
     ]
    },
    {
     "data": {
      "image/png": "[encoded data removed]",
      "text/plain": [
       "<matplotlib.figure.Figure at 0x7f6f445725f8>"
      ]
     },
     "metadata": {},
     "output_type": "display_data"
    },
    {
     "name": "stdout",
     "output_type": "stream",
     "text": [
      "\tSlippery road:\t0.99999571\n",
      "\tDangerous curve to the left:\t0.00000424\n",
      "\tDouble curve:\t0.00000000\n",
      "\tWild animals crossing:\t0.00000000\n",
      "\tNo passing for vehicles over 3.5 metric tons:\t0.00000000\n",
      "\n",
      "\n",
      "Test Image 2: No entry\n",
      "---------------------------------------------------\n"
     ]
    },
    {
     "data": {
      "image/png": "[encoded data removed]",
      "text/plain": [
       "<matplotlib.figure.Figure at 0x7f6f3c351c50>"
      ]
     },
     "metadata": {},
     "output_type": "display_data"
    },
    {
     "name": "stdout",
     "output_type": "stream",
     "text": [
      "\tNo entry:\t1.00000000\n",
      "\tTraffic signals:\t0.00000000\n",
      "\tSpeed limit (20km/h):\t0.00000000\n",
      "\tWild animals crossing:\t0.00000000\n",
      "\tSpeed limit (60km/h):\t0.00000000\n",
      "\n",
      "\n",
      "Test Image 3: Speed limit (60km/h)\n",
      "---------------------------------------------------\n"
     ]
    },
    {
     "data": {
      "image/png": "[encoded data removed]",
      "text/plain": [
       "<matplotlib.figure.Figure at 0x7f6f442117f0>"
      ]
     },
     "metadata": {},
     "output_type": "display_data"
    },
    {
     "name": "stdout",
     "output_type": "stream",
     "text": [
      "\tSpeed limit (60km/h):\t0.99990976\n",
      "\tSpeed limit (80km/h):\t0.00009026\n",
      "\tSpeed limit (50km/h):\t0.00000000\n",
      "\tAhead only:\t0.00000000\n",
      "\tEnd of speed limit (80km/h):\t0.00000000\n",
      "\n",
      "\n",
      "Test Image 4: Go straight or right\n",
      "---------------------------------------------------\n"
     ]
    },
    {
     "data": {
      "image/png": "[encoded data removed]",
      "text/plain": [
       "<matplotlib.figure.Figure at 0x7f6f3c731f98>"
      ]
     },
     "metadata": {},
     "output_type": "display_data"
    },
    {
     "name": "stdout",
     "output_type": "stream",
     "text": [
      "\tGo straight or right:\t1.00000000\n",
      "\tAhead only:\t0.00000002\n",
      "\tKeep right:\t0.00000002\n",
      "\tEnd of all speed and passing limits:\t0.00000000\n",
      "\tEnd of no passing:\t0.00000000\n",
      "\n",
      "\n",
      "Test Image 5: Ahead only\n",
      "---------------------------------------------------\n"
     ]
    },
    {
     "data": {
      "image/png": "[encoded data removed]",
      "text/plain": [
       "<matplotlib.figure.Figure at 0x7f6f4404a438>"
      ]
     },
     "metadata": {},
     "output_type": "display_data"
    },
    {
     "name": "stdout",
     "output_type": "stream",
     "text": [
      "\tAhead only:\t0.99899644\n",
      "\tNo passing:\t0.00099603\n",
      "\tTurn right ahead:\t0.00000391\n",
      "\tYield:\t0.00000367\n",
      "\tNo vehicles:\t0.00000003\n"
     ]
    }
   ],
   "source": [
    "### Print out the top five softmax probabilities for the predictions on the German traffic sign images found on the web \n",
    "import tensorflow as tf\n",
    "import numpy as np\n",
    "import pandas\n",
    "\n",
    "test_lables = np.array([23, 17, 3, 36, 35])\n",
    "sign_names = pandas.read_csv('signnames.csv')['SignName']\n",
    "\n",
    "loaded_graph = tf.Graph()\n",
    "with tf.Session(graph = loaded_graph) as sess:\n",
    "    loader = tf.train.import_meta_graph('./LeNet_Traffic_Sign_Classifier.meta')\n",
    "    loader.restore(sess, './LeNet_Traffic_Sign_Classifier')\n",
    "    loaded_inputs = loaded_graph.get_tensor_by_name('inputs:0')\n",
    "    loaded_logits = loaded_graph.get_tensor_by_name('logits:0')\n",
    "    \n",
    "    logits = sess.run(loaded_logits, feed_dict = {loaded_inputs: test_gray_images})\n",
    "    prediction_top5 = sess.run(tf.nn.top_k(tf.nn.softmax(logits), k = 5))\n",
    "    predictions = np.argmax(logits, axis = 1)\n",
    "    \n",
    "    print('Softmax Probability of Test Image Predictions:')\n",
    "    for index in range(len(predictions)):\n",
    "        predicted_label = predictions[index]\n",
    "        print('\\n\\nTest Image {}: {}'.format(index + 1, sign_names[predicted_label]))\n",
    "        print('---------------------------------------------------')\n",
    "        \n",
    "        plt.figure(figsize = (1, 1))\n",
    "        plt.imshow(test_images[index])\n",
    "        plt.show()\n",
    "        \n",
    "        for label_index in range(5):\n",
    "            sign_index = sign_names[prediction_top5.indices[index][label_index]]\n",
    "            sign_value = prediction_top5.values[index][label_index]\n",
    "            print('\\t{}:\\t{:.8f}'.format(sign_index, sign_value))"
   ]
  },
  {
   "cell_type": "markdown",
   "metadata": {},
   "source": [
    "### Project Writeup\n",
    "\n",
    "Once you have completed the code implementation, document your results in a project writeup using this [template](https://github.com/udacity/CarND-Traffic-Sign-Classifier-Project/blob/master/writeup_template.md) as a guide. The writeup can be in a markdown or pdf file. "
   ]
  },
  {
   "cell_type": "markdown",
   "metadata": {},
   "source": [
    "> **Note**: Once you have completed all of the code implementations and successfully answered each question above, you may finalize your work by exporting the iPython Notebook as an HTML document. You can do this by using the menu above and navigating to  \\n\",\n",
    "    \"**File -> Download as -> HTML (.html)**. Include the finished document along with this notebook as your submission."
   ]
  },
  {
   "cell_type": "markdown",
   "metadata": {},
   "source": [
    "---\n",
    "\n",
    "## Step 4 (Optional): Visualize the Neural Network's State with Test Images\n",
    "\n",
    " This Section is not required to complete but acts as an additional excersise for understaning the output of a neural network's weights. While neural networks can be a great learning device they are often referred to as a black box. We can understand what the weights of a neural network look like better by plotting their feature maps. After successfully training your neural network you can see what it's feature maps look like by plotting the output of the network's weight layers in response to a test stimuli image. From these plotted feature maps, it's possible to see what characteristics of an image the network finds interesting. For a sign, maybe the inner network feature maps react with high activation to the sign's boundary outline or to the contrast in the sign's painted symbol.\n",
    "\n",
    " Provided for you below is the function code that allows you to get the visualization output of any tensorflow weight layer you want. The inputs to the function should be a stimuli image, one used during training or a new one you provided, and then the tensorflow variable name that represents the layer's state during the training process, for instance if you wanted to see what the [LeNet lab's](https://classroom.udacity.com/nanodegrees/nd013/parts/fbf77062-5703-404e-b60c-95b78b2f3f9e/modules/6df7ae49-c61c-4bb2-a23e-6527e69209ec/lessons/601ae704-1035-4287-8b11-e2c2716217ad/concepts/d4aca031-508f-4e0b-b493-e7b706120f81) feature maps looked like for it's second convolutional layer you could enter conv2 as the tf_activation variable.\n",
    "\n",
    "For an example of what feature map outputs look like, check out NVIDIA's results in their paper [End-to-End Deep Learning for Self-Driving Cars](https://devblogs.nvidia.com/parallelforall/deep-learning-self-driving-cars/) in the section Visualization of internal CNN State. NVIDIA was able to show that their network's inner weights had high activations to road boundary lines by comparing feature maps from an image with a clear path to one without. Try experimenting with a similar test to show that your trained network's weights are looking for interesting features, whether it's looking at differences in feature maps from images with or without a sign, or even what feature maps look like in a trained network vs a completely untrained one on the same sign image.\n",
    "\n",
    "<figure>\n",
    " <img src=\"visualize_cnn.png\" width=\"380\" alt=\"Combined Image\" />\n",
    " <figcaption>\n",
    " <p></p> \n",
    " <p style=\"text-align: center;\"> Your output should look something like this (above)</p> \n",
    " </figcaption>\n",
    "</figure>\n",
    " <p></p> \n"
   ]
  },
  {
   "cell_type": "code",
   "execution_count": null,
   "metadata": {
    "collapsed": true
   },
   "outputs": [],
   "source": [
    "### Visualize your network's feature maps here.\n",
    "### Feel free to use as many code cells as needed.\n",
    "\n",
    "# image_input: the test image being fed into the network to produce the feature maps\n",
    "# tf_activation: should be a tf variable name used during your training procedure that represents the calculated state of a specific weight layer\n",
    "# activation_min/max: can be used to view the activation contrast in more detail, by default matplot sets min and max to the actual min and max values of the output\n",
    "# plt_num: used to plot out multiple different weight feature map sets on the same block, just extend the plt number for each new feature map entry\n",
    "\n",
    "def outputFeatureMap(image_input, tf_activation, activation_min=-1, activation_max=-1 ,plt_num=1):\n",
    "    # Here make sure to preprocess your image_input in a way your network expects\n",
    "    # with size, normalization, ect if needed\n",
    "    # image_input =\n",
    "    # Note: x should be the same name as your network's tensorflow data placeholder variable\n",
    "    # If you get an error tf_activation is not defined it may be having trouble accessing the variable from inside a function\n",
    "    activation = tf_activation.eval(session=sess,feed_dict={x : image_input})\n",
    "    featuremaps = activation.shape[3]\n",
    "    plt.figure(plt_num, figsize=(15,15))\n",
    "    for featuremap in range(featuremaps):\n",
    "        plt.subplot(6,8, featuremap+1) # sets the number of feature maps to show on each row and column\n",
    "        plt.title('FeatureMap ' + str(featuremap)) # displays the feature map number\n",
    "        if activation_min != -1 & activation_max != -1:\n",
    "            plt.imshow(activation[0,:,:, featuremap], interpolation=\"nearest\", vmin =activation_min, vmax=activation_max, cmap=\"gray\")\n",
    "        elif activation_max != -1:\n",
    "            plt.imshow(activation[0,:,:, featuremap], interpolation=\"nearest\", vmax=activation_max, cmap=\"gray\")\n",
    "        elif activation_min !=-1:\n",
    "            plt.imshow(activation[0,:,:, featuremap], interpolation=\"nearest\", vmin=activation_min, cmap=\"gray\")\n",
    "        else:\n",
    "            plt.imshow(activation[0,:,:, featuremap], interpolation=\"nearest\", cmap=\"gray\")"
   ]
  }
 ],
 "metadata": {
  "anaconda-cloud": {},
  "kernelspec": {
   "display_name": "Python 3",
   "language": "python",
   "name": "python3"
  },
  "language_info": {
   "codemirror_mode": {
    "name": "ipython",
    "version": 3
   },
   "file_extension": ".py",
   "mimetype": "text/x-python",
   "name": "python",
   "nbconvert_exporter": "python",
   "pygments_lexer": "ipython3",
   "version": "3.5.2"
  },
  "widgets": {
   "state": {},
   "version": "1.1.2"
  }
 },
 "nbformat": 4,
 "nbformat_minor": 1
}
